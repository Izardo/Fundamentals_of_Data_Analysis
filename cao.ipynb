{
 "cells": [
  {
   "cell_type": "markdown",
   "metadata": {},
   "source": [
    "# A Comparison Analysis of CAO points for 2019, 2020, 2021\n",
    "http://www.cao.ie/index.php?page=points&p=2021\n",
    "***"
   ]
  },
  {
   "cell_type": "code",
   "execution_count": 25,
   "metadata": {},
   "outputs": [],
   "source": [
    "# Imports libraries\n",
    "import pandas as pd\n",
    "import matplotlib.pyplot as plt\n",
    "import numpy as np\n",
    "import random\n",
    "\n",
    "# Ensures plots are shown\n",
    "%matplotlib inline"
   ]
  },
  {
   "cell_type": "markdown",
   "metadata": {},
   "source": [
    "## Analysis of 2021 CAO points for level 8 courses"
   ]
  },
  {
   "cell_type": "code",
   "execution_count": 26,
   "metadata": {},
   "outputs": [],
   "source": [
    "# Imports regular expressions module\n",
    "import re\n",
    "\n",
    "# HTTP requests\n",
    "import requests as rq\n",
    "\n",
    "# Dates and times\n",
    "import datetime as dt"
   ]
  },
  {
   "cell_type": "code",
   "execution_count": 27,
   "metadata": {},
   "outputs": [
    {
     "data": {
      "text/plain": [
       "<Response [200]>"
      ]
     },
     "execution_count": 27,
     "metadata": {},
     "output_type": "execute_result"
    }
   ],
   "source": [
    "# Retrieves CAO points from the webserver.\n",
    "response = rq.get('http://www2.cao.ie/points/l8.php')\n",
    "\n",
    "# Response 200 signifies a successful request/response.\n",
    "response"
   ]
  },
  {
   "cell_type": "markdown",
   "metadata": {},
   "source": [
    "## Saving the original data\n",
    "***"
   ]
  },
  {
   "cell_type": "code",
   "execution_count": 28,
   "metadata": {},
   "outputs": [],
   "source": [
    "# Gets the current date and time\n",
    "current_time = dt.datetime.now()\n",
    "\n",
    "# Format as a string\n",
    "current_str = current_time.strftime('%Y%m%d_%H%M%S')"
   ]
  },
  {
   "cell_type": "code",
   "execution_count": 29,
   "metadata": {},
   "outputs": [],
   "source": [
    "# Creates a file path for the original data\n",
    "path = 'data/cao2021' + current_str + '.html'# Note the importance of the filename and how it\n",
    "                                             # will be easy to find in folders/sorted appropriately"
   ]
  },
  {
   "cell_type": "code",
   "execution_count": 30,
   "metadata": {},
   "outputs": [],
   "source": [
    "# Saves the original html file.\n",
    "with open(path, 'w') as f:\n",
    "    f.write(response.text)"
   ]
  },
  {
   "cell_type": "markdown",
   "metadata": {},
   "source": [
    "<br>\n",
    "\n",
    "## Charset error on server\n",
    "\n",
    "Technically, server states decoding as:\n",
    "\n",
    "```\n",
    "    Content-Type: text/html; charset=iso-8859-1.\n",
    "``` \n",
    "\n",
    "However, one line uses \\x96 which isn't defined in iso-8859-1. \n",
    "\n",
    "Therefore, we use the similar decoding standard cp1252, which is very similar but includes \\x96. "
   ]
  },
  {
   "cell_type": "code",
   "execution_count": 31,
   "metadata": {},
   "outputs": [],
   "source": [
    "# Server uses incorrect encoding\n",
    "orig_encoding = response.encoding\n",
    "\n",
    "# Corrected encoding to cp1252\n",
    "response.encoding = 'cp1252'"
   ]
  },
  {
   "cell_type": "markdown",
   "metadata": {},
   "source": [
    "<br>\n",
    "\n",
    "## Using regular expressions to extract desired data\n",
    "***"
   ]
  },
  {
   "cell_type": "code",
   "execution_count": 32,
   "metadata": {},
   "outputs": [],
   "source": [
    "# Compiles the regular expression for matching lines so it doesn't recompile repeatedly.\n",
    "re_course = re.compile(r'([A-Z]{2}[0-9]{3})  (.*)([0-9]{3})(\\*?) *')  # 'r' python treats string as raw string and doesnt evaluate back slashes\n",
    "                                                                    # \\ {character} means we want the literal character ie., *\n",
    "                                                                    # ? means 0 or 1 of \n",
    "                                                                    # + means 1 or more of "
   ]
  },
  {
   "cell_type": "code",
   "execution_count": 37,
   "metadata": {},
   "outputs": [
    {
     "name": "stdout",
     "output_type": "stream",
     "text": [
      "Line count: 922\n"
     ]
    }
   ],
   "source": [
    "# Path for CSV file\n",
    "path = 'data/cao2021' + current_str + '.csv'\n",
    "\n",
    "# Keeping count of the courses we are processing.\n",
    "course_count = 0\n",
    "\n",
    "# Opens the CSV file for wrting.\n",
    "with open(path, 'w') as f:\n",
    "    # Loops through and prints data from response line by line.\n",
    "    for line in response.iter_lines():\n",
    "        # Decoding turns bytes into code points and those code points can be displayed on the screen\n",
    "        d_line = line.decode('cp1252')\n",
    "        # Matches the string specified in re_course, returning only the courses from the response\n",
    "        if re_course.fullmatch(d_line):\n",
    "            # Adds one to the course count\n",
    "            course_count += 1\n",
    "            # Using regular expressions splits a string on at least two spaces\n",
    "            line_split = re.split('  +', d_line)\n",
    "            # Rejoin the substrings with commas\n",
    "            f.write(','.join(line_split) + '\\n')\n",
    "    print(f\"Line count: {course_count}\")"
   ]
  },
  {
   "cell_type": "markdown",
   "metadata": {},
   "source": [
    "***\n",
    "# End"
   ]
  },
  {
   "cell_type": "markdown",
   "metadata": {},
   "source": []
  }
 ],
 "metadata": {
  "interpreter": {
   "hash": "40d3a090f54c6569ab1632332b64b2c03c39dcf918b08424e98f38b5ae0af88f"
  },
  "kernelspec": {
   "display_name": "Python 3.8.5 64-bit ('base': conda)",
   "name": "python3"
  },
  "language_info": {
   "codemirror_mode": {
    "name": "ipython",
    "version": 3
   },
   "file_extension": ".py",
   "mimetype": "text/x-python",
   "name": "python",
   "nbconvert_exporter": "python",
   "pygments_lexer": "ipython3",
   "version": "3.8.5"
  }
 },
 "nbformat": 4,
 "nbformat_minor": 4
}
